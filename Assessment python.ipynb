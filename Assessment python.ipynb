{
 "cells": [
  {
   "cell_type": "markdown",
   "id": "bde516cf",
   "metadata": {},
   "source": [
    "# Write an efficient algorithm that searches for a value target in an m x n integer matrix. This matrix has the following properties:\n",
    "\n",
    "# Integers in each row are sorted from right to left.\n",
    "\n",
    "# The first integer of each row is greater than the last integer of the previous row.\n",
    "\n",
    "# Example-: \n",
    "\n",
    "                                        \n",
    "# Input: matrix = [[1,3,5,7],[10,11,16,20],[23,30,34,60]], target = 3\n",
    "\n",
    "# Output: True"
   ]
  },
  {
   "cell_type": "code",
   "execution_count": 1,
   "id": "8b29ca99",
   "metadata": {},
   "outputs": [
    {
     "name": "stdout",
     "output_type": "stream",
     "text": [
      "True\n"
     ]
    }
   ],
   "source": [
    "def search_matrix(matrix, target):\n",
    "    if not matrix or not matrix[0]:\n",
    "        return False\n",
    "\n",
    "    rows, cols = len(matrix), len(matrix[0])\n",
    "    left, right = 0, rows * cols - 1\n",
    "\n",
    "    while left <= right:\n",
    "        mid = (left + right) // 2\n",
    "        mid_value = matrix[mid // cols][mid % cols]\n",
    "\n",
    "        if mid_value == target:\n",
    "            return True\n",
    "        elif mid_value < target:\n",
    "            left = mid + 1\n",
    "        else:\n",
    "            right = mid - 1\n",
    "\n",
    "    return False\n",
    "\n",
    "# Example usage:\n",
    "matrix = [[1, 3, 5, 7], [10, 11, 16, 20], [23, 30, 34, 60]]\n",
    "target = 3\n",
    "result = search_matrix(matrix, target)\n",
    "print(result)"
   ]
  },
  {
   "cell_type": "code",
   "execution_count": 7,
   "id": "44922df7",
   "metadata": {},
   "outputs": [
    {
     "name": "stdout",
     "output_type": "stream",
     "text": [
      "True\n"
     ]
    }
   ],
   "source": [
    "matrix = [\n",
    "    [1, 2, 3, 4],\n",
    "    [5, 6, 7, 8],\n",
    "    [9, 10, 11, 12],\n",
    "    [13, 14, 15, 16],\n",
    "]\n",
    "\n",
    "target = 9\n",
    "result = search_matrix(matrix, target)\n",
    "print(result)"
   ]
  },
  {
   "cell_type": "markdown",
   "id": "a969b20c",
   "metadata": {},
   "source": [
    "#  Write a program that takes a string as input, and counts the frequency of each word in the string, there might  be repeated characters in the string. Your task is to find the highest frequency and returns the length of the  highest-frequency word. \n",
    "\n",
    "# Note - You have to write at least 2 additional test cases in which your program will run successfully and provide  an explanation for the same.  \n",
    "\n",
    "# Example input - string = “write write write all the number from from from 1 to 100” \n",
    "\n",
    "# Example output - 5 \n",
    "\n",
    "# Explanation - From the given string we can note that the most frequent words are “write” and “from” and  the maximum value of both the values is “write” and its corresponding length is 5 "
   ]
  },
  {
   "cell_type": "code",
   "execution_count": 8,
   "id": "775504c9",
   "metadata": {},
   "outputs": [
    {
     "name": "stdout",
     "output_type": "stream",
     "text": [
      "5\n"
     ]
    }
   ],
   "source": [
    "def highest_frequency_word_length(s):\n",
    "    words = s.split()\n",
    "    word_frequency = {}\n",
    "\n",
    "    for word in words:\n",
    "        word_frequency[word] = word_frequency.get(word, 0) + 1\n",
    "\n",
    "    if not word_frequency:\n",
    "        return 0\n",
    "\n",
    "    max_frequency_word = max(word_frequency, key=word_frequency.get)\n",
    "    return len(max_frequency_word)\n",
    "\n",
    "input_string = \"apple cherry banana apple cherry banana apple apple\"\n",
    "result = highest_frequency_word_length(input_string)\n",
    "print(result)"
   ]
  },
  {
   "cell_type": "code",
   "execution_count": 4,
   "id": "c52a33f5",
   "metadata": {},
   "outputs": [
    {
     "name": "stdout",
     "output_type": "stream",
     "text": [
      "3\n"
     ]
    }
   ],
   "source": [
    "input_string = \"Tom is a boy, Tom is playing,\"\n",
    "result = highest_frequency_word_length(input_string)\n",
    "print(result)"
   ]
  },
  {
   "cell_type": "code",
   "execution_count": 5,
   "id": "415e2a15",
   "metadata": {},
   "outputs": [
    {
     "name": "stdout",
     "output_type": "stream",
     "text": [
      "5\n"
     ]
    }
   ],
   "source": [
    "# Example usage:\n",
    "input_string = \"write write write all the number from from from 1 to 100\"\n",
    "result = highest_frequency_word_length(input_string)\n",
    "print(result)"
   ]
  }
 ],
 "metadata": {
  "kernelspec": {
   "display_name": "Python 3 (ipykernel)",
   "language": "python",
   "name": "python3"
  },
  "language_info": {
   "codemirror_mode": {
    "name": "ipython",
    "version": 3
   },
   "file_extension": ".py",
   "mimetype": "text/x-python",
   "name": "python",
   "nbconvert_exporter": "python",
   "pygments_lexer": "ipython3",
   "version": "3.11.5"
  }
 },
 "nbformat": 4,
 "nbformat_minor": 5
}
